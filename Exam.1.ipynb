{
 "cells": [
  {
   "cell_type": "code",
   "execution_count": 86,
   "id": "adcb451c",
   "metadata": {},
   "outputs": [
    {
     "name": "stdout",
     "output_type": "stream",
     "text": [
      "All particles have become the same species.\n",
      "Final distribution: A=0, B=0, C=6\n"
     ]
    }
   ],
   "source": [
    "import random\n",
    "\n",
    "# Initialise the number of particles for each species\n",
    "N_A = 2\n",
    "N_B = 2\n",
    "N_C = 2\n",
    "\n",
    "# Create an array for the particles\n",
    "X = ['A'] * N_A + ['B'] * N_B + ['C'] * N_C\n",
    "\n",
    "def collision(X):\n",
    "    while True:  # Repeat until two different species are picked\n",
    "        # Randomly select two different particles for collision\n",
    "        i, j = random.sample(range(len(X)), 2) \n",
    "\n",
    "        # Determine the species of the selected particles\n",
    "        species_i, species_j = X[i], X[j]\n",
    "\n",
    "        # Continue only if the selected particles are of different species\n",
    "        if species_i != species_j:\n",
    "            # Determine the new species \n",
    "            if ('A' in [species_i, species_j]) and ('B' in [species_i, species_j]):\n",
    "                new_species = 'C'\n",
    "            elif ('A' in [species_i, species_j]) and ('C' in [species_i, species_j]):\n",
    "                new_species = 'B'\n",
    "            elif ('B' in [species_i, species_j]) and ('C' in [species_i, species_j]):\n",
    "                new_species = 'A'\n",
    "\n",
    "            # Update the species of the collided particles in the array\n",
    "            X[i], X[j] = new_species, new_species\n",
    "            break  # Exit the loop after a successful collision\n",
    "\n",
    "    return X\n",
    "\n",
    "# Total number of collisions to simulate\n",
    "total_collisions = 10000\n",
    "\n",
    "# Simulate collisions\n",
    "for _ in range(total_collisions):\n",
    "    X = collision(X)\n",
    "    # Terminate if all particles become the same species. There are no more possible collisions.\n",
    "    if len(set(X)) == 1:\n",
    "        print(\"All particles have become the same species.\")\n",
    "        break\n",
    "\n",
    "#  final distribution of species\n",
    "final_N_A = X.count('A')\n",
    "final_N_B = X.count('B')\n",
    "final_N_C = X.count('C')\n",
    "\n",
    "print(f\"Final distribution: A={final_N_A}, B={final_N_B}, C={final_N_C}\")"
   ]
  },
  {
   "cell_type": "code",
   "execution_count": null,
   "id": "fb037f9f",
   "metadata": {},
   "outputs": [],
   "source": []
  }
 ],
 "metadata": {
  "kernelspec": {
   "display_name": "Python 3 (ipykernel)",
   "language": "python",
   "name": "python3"
  },
  "language_info": {
   "codemirror_mode": {
    "name": "ipython",
    "version": 3
   },
   "file_extension": ".py",
   "mimetype": "text/x-python",
   "name": "python",
   "nbconvert_exporter": "python",
   "pygments_lexer": "ipython3",
   "version": "3.9.7"
  }
 },
 "nbformat": 4,
 "nbformat_minor": 5
}
