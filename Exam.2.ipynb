{
 "cells": [
  {
   "cell_type": "code",
   "execution_count": 62,
   "id": "8e96522d",
   "metadata": {},
   "outputs": [
    {
     "name": "stdout",
     "output_type": "stream",
     "text": [
      "Outcomes after 10000 simulations:\n",
      "A: 3407\n",
      "B: 3211\n",
      "C: 3382\n",
      "No dominant species: 0\n"
     ]
    },
    {
     "data": {
      "image/png": "[encoded data removed]",
      "text/plain": [
       "<Figure size 720x432 with 1 Axes>"
      ]
     },
     "metadata": {
      "needs_background": "light"
     },
     "output_type": "display_data"
    }
   ],
   "source": [
    "import random\n",
    "import matplotlib.pyplot as plt\n",
    "\n",
    "def run_simulation():\n",
    "    # Initialise the number of particles for each species\n",
    "    N_A = 3\n",
    "    N_B = 3\n",
    "    N_C = 0\n",
    "\n",
    "    # Create an array for the particles\n",
    "    X = ['A'] * N_A + ['B'] * N_B + ['C'] * N_C\n",
    "\n",
    "    def collision(X):\n",
    "        while True:\n",
    "            i, j = random.sample(range(len(X)), 2)\n",
    "            species_i, species_j = X[i], X[j]\n",
    "            if species_i != species_j:\n",
    "                if ('A' in [species_i, species_j]) and ('B' in [species_i, species_j]):\n",
    "                    new_species = 'C'\n",
    "                elif ('A' in [species_i, species_j]) and ('C' in [species_i, species_j]):\n",
    "                    new_species = 'B'\n",
    "                elif ('B' in [species_i, species_j]) and ('C' in [species_i, species_j]):\n",
    "                    new_species = 'A'\n",
    "                X[i], X[j] = new_species, new_species\n",
    "                break\n",
    "        return X\n",
    "\n",
    "    # Simulate collisions\n",
    "    total_collisions = 10000\n",
    "    for _ in range(total_collisions):\n",
    "        X = collision(X)\n",
    "        if len(set(X)) == 1:\n",
    "            break\n",
    "\n",
    "    # Determine the final species if one exists\n",
    "    if len(set(X)) == 1:\n",
    "        return X[0]  # All particles are of the same species\n",
    "    return 'No dominant species'  # if not retrun 'No single species dominated'\n",
    "\n",
    "# Initialise counters for the outcomes\n",
    "outcome_counts = {'A': 0, 'B': 0, 'C': 0, 'No dominant species': 0}\n",
    "\n",
    "# Run the simulation \n",
    "num_simulations = 10000\n",
    "for _ in range(num_simulations):\n",
    "    outcome = run_simulation()\n",
    "    outcome_counts[outcome] += 1\n",
    "    \n",
    "print(\"Outcomes after 10000 simulations:\")\n",
    "print(\"A:\", outcome_counts['A'])\n",
    "print(\"B:\", outcome_counts['B'])\n",
    "print(\"C:\", outcome_counts['C'])\n",
    "print(\"No dominant species:\", outcome_counts['No dominant species'])\n",
    "\n",
    "\n",
    "\n",
    "#PLotting on a bar chart\n",
    "\n",
    "species_names = list(outcome_counts.keys())\n",
    "counts = list(outcome_counts.values())\n",
    "\n",
    "\n",
    "plt.figure(figsize=(10, 6))  \n",
    "plt.bar(species_names, counts, color=['red', 'blue', 'green', 'purple'])  \n",
    "\n",
    "plt.xlabel('Species')  \n",
    "plt.ylabel('Frequency')  \n",
    "plt.title('Outcomes after 10000 simulations (10000 collisions)')  \n",
    "plt.show()\n",
    " \n"
   ]
  },
  {
   "cell_type": "code",
   "execution_count": null,
   "id": "3e409b83",
   "metadata": {},
   "outputs": [],
   "source": []
  },
  {
   "cell_type": "code",
   "execution_count": null,
   "id": "3e9bb4cf",
   "metadata": {},
   "outputs": [],
   "source": []
  }
 ],
 "metadata": {
  "kernelspec": {
   "display_name": "Python 3 (ipykernel)",
   "language": "python",
   "name": "python3"
  },
  "language_info": {
   "codemirror_mode": {
    "name": "ipython",
    "version": 3
   },
   "file_extension": ".py",
   "mimetype": "text/x-python",
   "name": "python",
   "nbconvert_exporter": "python",
   "pygments_lexer": "ipython3",
   "version": "3.9.7"
  }
 },
 "nbformat": 4,
 "nbformat_minor": 5
}
